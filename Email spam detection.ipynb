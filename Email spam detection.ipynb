{
 "cells": [
  {
   "cell_type": "markdown",
   "id": "a20ec3ff",
   "metadata": {},
   "source": [
    "# IMPORTING LIBRARIES"
   ]
  },
  {
   "cell_type": "code",
   "execution_count": 1,
   "id": "bc6dd177",
   "metadata": {},
   "outputs": [],
   "source": [
    "import numpy as np\n",
    "import pandas as pd\n",
    "from sklearn.model_selection import train_test_split\n",
    "from sklearn.feature_extraction.text import TfidfVectorizer\n",
    "from sklearn.linear_model import LogisticRegression\n",
    "from sklearn.metrics import accuracy_score"
   ]
  },
  {
   "cell_type": "code",
   "execution_count": 3,
   "id": "424f334d",
   "metadata": {},
   "outputs": [
    {
     "data": {
      "text/html": [
       "<img src=\"https://imgs.search.brave.com/5ZI1TFFzNLxzBN8FR1C0gN1WXxt7yvZMv6GQiFoUzR0/rs:fit:860:0:0/g:ce/aHR0cHM6Ly9zdDMu/ZGVwb3NpdHBob3Rv/cy5jb20vMTAwMDEy/OC8xNjUwNS9pLzYw/MC9kZXBvc2l0cGhv/dG9zXzE2NTA1MzIz/OC1zdG9jay1waG90/by1lLW1haWwtYW5k/LXNwYW0tY29uY2Vw/dC5qcGc\"/>"
      ],
      "text/plain": [
       "<IPython.core.display.Image object>"
      ]
     },
     "execution_count": 3,
     "metadata": {},
     "output_type": "execute_result"
    }
   ],
   "source": [
    "from IPython.display import Image\n",
    "Image(url=\"https://imgs.search.brave.com/5ZI1TFFzNLxzBN8FR1C0gN1WXxt7yvZMv6GQiFoUzR0/rs:fit:860:0:0/g:ce/aHR0cHM6Ly9zdDMu/ZGVwb3NpdHBob3Rv/cy5jb20vMTAwMDEy/OC8xNjUwNS9pLzYw/MC9kZXBvc2l0cGhv/dG9zXzE2NTA1MzIz/OC1zdG9jay1waG90/by1lLW1haWwtYW5k/LXNwYW0tY29uY2Vw/dC5qcGc\")"
   ]
  },
  {
   "cell_type": "markdown",
   "id": "4ea4ffa5",
   "metadata": {},
   "source": [
    "# LOAD DATASET"
   ]
  },
  {
   "cell_type": "code",
   "execution_count": 8,
   "id": "fbb3a8e8",
   "metadata": {},
   "outputs": [
    {
     "data": {
      "text/html": [
       "<div>\n",
       "<style scoped>\n",
       "    .dataframe tbody tr th:only-of-type {\n",
       "        vertical-align: middle;\n",
       "    }\n",
       "\n",
       "    .dataframe tbody tr th {\n",
       "        vertical-align: top;\n",
       "    }\n",
       "\n",
       "    .dataframe thead th {\n",
       "        text-align: right;\n",
       "    }\n",
       "</style>\n",
       "<table border=\"1\" class=\"dataframe\">\n",
       "  <thead>\n",
       "    <tr style=\"text-align: right;\">\n",
       "      <th></th>\n",
       "      <th>v1</th>\n",
       "      <th>v2</th>\n",
       "      <th>Unnamed: 2</th>\n",
       "      <th>Unnamed: 3</th>\n",
       "      <th>Unnamed: 4</th>\n",
       "    </tr>\n",
       "  </thead>\n",
       "  <tbody>\n",
       "    <tr>\n",
       "      <th>0</th>\n",
       "      <td>ham</td>\n",
       "      <td>Go until jurong point, crazy.. Available only ...</td>\n",
       "      <td>NaN</td>\n",
       "      <td>NaN</td>\n",
       "      <td>NaN</td>\n",
       "    </tr>\n",
       "    <tr>\n",
       "      <th>1</th>\n",
       "      <td>ham</td>\n",
       "      <td>Ok lar... Joking wif u oni...</td>\n",
       "      <td>NaN</td>\n",
       "      <td>NaN</td>\n",
       "      <td>NaN</td>\n",
       "    </tr>\n",
       "    <tr>\n",
       "      <th>2</th>\n",
       "      <td>spam</td>\n",
       "      <td>Free entry in 2 a wkly comp to win FA Cup fina...</td>\n",
       "      <td>NaN</td>\n",
       "      <td>NaN</td>\n",
       "      <td>NaN</td>\n",
       "    </tr>\n",
       "    <tr>\n",
       "      <th>3</th>\n",
       "      <td>ham</td>\n",
       "      <td>U dun say so early hor... U c already then say...</td>\n",
       "      <td>NaN</td>\n",
       "      <td>NaN</td>\n",
       "      <td>NaN</td>\n",
       "    </tr>\n",
       "    <tr>\n",
       "      <th>4</th>\n",
       "      <td>ham</td>\n",
       "      <td>Nah I don't think he goes to usf, he lives aro...</td>\n",
       "      <td>NaN</td>\n",
       "      <td>NaN</td>\n",
       "      <td>NaN</td>\n",
       "    </tr>\n",
       "  </tbody>\n",
       "</table>\n",
       "</div>"
      ],
      "text/plain": [
       "     v1                                                 v2 Unnamed: 2  \\\n",
       "0   ham  Go until jurong point, crazy.. Available only ...        NaN   \n",
       "1   ham                      Ok lar... Joking wif u oni...        NaN   \n",
       "2  spam  Free entry in 2 a wkly comp to win FA Cup fina...        NaN   \n",
       "3   ham  U dun say so early hor... U c already then say...        NaN   \n",
       "4   ham  Nah I don't think he goes to usf, he lives aro...        NaN   \n",
       "\n",
       "  Unnamed: 3 Unnamed: 4  \n",
       "0        NaN        NaN  \n",
       "1        NaN        NaN  \n",
       "2        NaN        NaN  \n",
       "3        NaN        NaN  \n",
       "4        NaN        NaN  "
      ]
     },
     "execution_count": 8,
     "metadata": {},
     "output_type": "execute_result"
    }
   ],
   "source": [
    "raw_mail_data = pd.read_csv(\"C:\\\\Users\\\\pavan kalyan\\\\OneDrive\\\\Documents\\\\data science oasis\\\\EMAIL SPAM\\\\spam.csv\", encoding='ISO-8859-1')\n",
    "raw_mail_data.head()"
   ]
  },
  {
   "cell_type": "code",
   "execution_count": 6,
   "id": "aa03af81",
   "metadata": {},
   "outputs": [],
   "source": [
    "mail_data = raw_mail_data.where(pd.notnull(raw_mail_data),'')\n",
    "mail_data=mail_data.drop(['Unnamed: 2', 'Unnamed: 3','Unnamed: 4'], axis=1)\n"
   ]
  },
  {
   "cell_type": "code",
   "execution_count": 7,
   "id": "5f8b3be1",
   "metadata": {},
   "outputs": [
    {
     "data": {
      "text/html": [
       "<div>\n",
       "<style scoped>\n",
       "    .dataframe tbody tr th:only-of-type {\n",
       "        vertical-align: middle;\n",
       "    }\n",
       "\n",
       "    .dataframe tbody tr th {\n",
       "        vertical-align: top;\n",
       "    }\n",
       "\n",
       "    .dataframe thead th {\n",
       "        text-align: right;\n",
       "    }\n",
       "</style>\n",
       "<table border=\"1\" class=\"dataframe\">\n",
       "  <thead>\n",
       "    <tr style=\"text-align: right;\">\n",
       "      <th></th>\n",
       "      <th>v1</th>\n",
       "      <th>v2</th>\n",
       "    </tr>\n",
       "  </thead>\n",
       "  <tbody>\n",
       "    <tr>\n",
       "      <th>0</th>\n",
       "      <td>ham</td>\n",
       "      <td>Go until jurong point, crazy.. Available only ...</td>\n",
       "    </tr>\n",
       "    <tr>\n",
       "      <th>1</th>\n",
       "      <td>ham</td>\n",
       "      <td>Ok lar... Joking wif u oni...</td>\n",
       "    </tr>\n",
       "    <tr>\n",
       "      <th>2</th>\n",
       "      <td>spam</td>\n",
       "      <td>Free entry in 2 a wkly comp to win FA Cup fina...</td>\n",
       "    </tr>\n",
       "    <tr>\n",
       "      <th>3</th>\n",
       "      <td>ham</td>\n",
       "      <td>U dun say so early hor... U c already then say...</td>\n",
       "    </tr>\n",
       "    <tr>\n",
       "      <th>4</th>\n",
       "      <td>ham</td>\n",
       "      <td>Nah I don't think he goes to usf, he lives aro...</td>\n",
       "    </tr>\n",
       "  </tbody>\n",
       "</table>\n",
       "</div>"
      ],
      "text/plain": [
       "     v1                                                 v2\n",
       "0   ham  Go until jurong point, crazy.. Available only ...\n",
       "1   ham                      Ok lar... Joking wif u oni...\n",
       "2  spam  Free entry in 2 a wkly comp to win FA Cup fina...\n",
       "3   ham  U dun say so early hor... U c already then say...\n",
       "4   ham  Nah I don't think he goes to usf, he lives aro..."
      ]
     },
     "execution_count": 7,
     "metadata": {},
     "output_type": "execute_result"
    }
   ],
   "source": [
    "mail_data.head()"
   ]
  },
  {
   "cell_type": "code",
   "execution_count": 10,
   "id": "4dae96ee",
   "metadata": {},
   "outputs": [
    {
     "data": {
      "text/plain": [
       "(5572, 2)"
      ]
     },
     "execution_count": 10,
     "metadata": {},
     "output_type": "execute_result"
    }
   ],
   "source": [
    "mail_data.shape"
   ]
  },
  {
   "cell_type": "markdown",
   "id": "2b02222d",
   "metadata": {},
   "source": [
    "# LABEL ENCODING"
   ]
  },
  {
   "cell_type": "code",
   "execution_count": 11,
   "id": "3cf6d41b",
   "metadata": {},
   "outputs": [],
   "source": [
    "mail_data.loc[mail_data['v1'] == 'spam', 'v1'] = 0\n",
    "mail_data.loc[mail_data['v1'] == 'ham', 'v1'] = 1"
   ]
  },
  {
   "cell_type": "code",
   "execution_count": 12,
   "id": "f89909ea",
   "metadata": {},
   "outputs": [
    {
     "data": {
      "text/html": [
       "<div>\n",
       "<style scoped>\n",
       "    .dataframe tbody tr th:only-of-type {\n",
       "        vertical-align: middle;\n",
       "    }\n",
       "\n",
       "    .dataframe tbody tr th {\n",
       "        vertical-align: top;\n",
       "    }\n",
       "\n",
       "    .dataframe thead th {\n",
       "        text-align: right;\n",
       "    }\n",
       "</style>\n",
       "<table border=\"1\" class=\"dataframe\">\n",
       "  <thead>\n",
       "    <tr style=\"text-align: right;\">\n",
       "      <th></th>\n",
       "      <th>v1</th>\n",
       "      <th>v2</th>\n",
       "    </tr>\n",
       "  </thead>\n",
       "  <tbody>\n",
       "    <tr>\n",
       "      <th>0</th>\n",
       "      <td>1</td>\n",
       "      <td>Go until jurong point, crazy.. Available only ...</td>\n",
       "    </tr>\n",
       "    <tr>\n",
       "      <th>1</th>\n",
       "      <td>1</td>\n",
       "      <td>Ok lar... Joking wif u oni...</td>\n",
       "    </tr>\n",
       "    <tr>\n",
       "      <th>2</th>\n",
       "      <td>0</td>\n",
       "      <td>Free entry in 2 a wkly comp to win FA Cup fina...</td>\n",
       "    </tr>\n",
       "    <tr>\n",
       "      <th>3</th>\n",
       "      <td>1</td>\n",
       "      <td>U dun say so early hor... U c already then say...</td>\n",
       "    </tr>\n",
       "    <tr>\n",
       "      <th>4</th>\n",
       "      <td>1</td>\n",
       "      <td>Nah I don't think he goes to usf, he lives aro...</td>\n",
       "    </tr>\n",
       "  </tbody>\n",
       "</table>\n",
       "</div>"
      ],
      "text/plain": [
       "  v1                                                 v2\n",
       "0  1  Go until jurong point, crazy.. Available only ...\n",
       "1  1                      Ok lar... Joking wif u oni...\n",
       "2  0  Free entry in 2 a wkly comp to win FA Cup fina...\n",
       "3  1  U dun say so early hor... U c already then say...\n",
       "4  1  Nah I don't think he goes to usf, he lives aro..."
      ]
     },
     "execution_count": 12,
     "metadata": {},
     "output_type": "execute_result"
    }
   ],
   "source": [
    "mail_data.head()"
   ]
  },
  {
   "cell_type": "code",
   "execution_count": 13,
   "id": "5b82960f",
   "metadata": {},
   "outputs": [],
   "source": [
    "X = mail_data['v2']\n",
    "Y = mail_data['v1']"
   ]
  },
  {
   "cell_type": "code",
   "execution_count": 15,
   "id": "d692ba05",
   "metadata": {},
   "outputs": [
    {
     "data": {
      "text/plain": [
       "0    Go until jurong point, crazy.. Available only ...\n",
       "1                        Ok lar... Joking wif u oni...\n",
       "2    Free entry in 2 a wkly comp to win FA Cup fina...\n",
       "3    U dun say so early hor... U c already then say...\n",
       "4    Nah I don't think he goes to usf, he lives aro...\n",
       "Name: v2, dtype: object"
      ]
     },
     "execution_count": 15,
     "metadata": {},
     "output_type": "execute_result"
    }
   ],
   "source": [
    "X.head()"
   ]
  },
  {
   "cell_type": "code",
   "execution_count": 16,
   "id": "2db7c739",
   "metadata": {},
   "outputs": [
    {
     "data": {
      "text/plain": [
       "0    1\n",
       "1    1\n",
       "2    0\n",
       "3    1\n",
       "4    1\n",
       "Name: v1, dtype: object"
      ]
     },
     "execution_count": 16,
     "metadata": {},
     "output_type": "execute_result"
    }
   ],
   "source": [
    "Y.head()"
   ]
  },
  {
   "cell_type": "code",
   "execution_count": 17,
   "id": "5a2da5a5",
   "metadata": {},
   "outputs": [],
   "source": [
    "X_Train,X_test,Y_Train,Y_test = train_test_split(X,Y,test_size=0.2,random_state=3)"
   ]
  },
  {
   "cell_type": "code",
   "execution_count": 18,
   "id": "cb1c9833",
   "metadata": {},
   "outputs": [
    {
     "data": {
      "text/plain": [
       "(5572,)"
      ]
     },
     "execution_count": 18,
     "metadata": {},
     "output_type": "execute_result"
    }
   ],
   "source": [
    "X.shape"
   ]
  },
  {
   "cell_type": "code",
   "execution_count": 19,
   "id": "892534c4",
   "metadata": {},
   "outputs": [
    {
     "data": {
      "text/plain": [
       "(4457,)"
      ]
     },
     "execution_count": 19,
     "metadata": {},
     "output_type": "execute_result"
    }
   ],
   "source": [
    "X_Train.shape"
   ]
  },
  {
   "cell_type": "code",
   "execution_count": 20,
   "id": "de51d3f0",
   "metadata": {},
   "outputs": [
    {
     "data": {
      "text/plain": [
       "(1115,)"
      ]
     },
     "execution_count": 20,
     "metadata": {},
     "output_type": "execute_result"
    }
   ],
   "source": [
    "Y_test.shape"
   ]
  },
  {
   "cell_type": "markdown",
   "id": "1ca30cd9",
   "metadata": {},
   "source": [
    "# Feature Scaling"
   ]
  },
  {
   "cell_type": "code",
   "execution_count": 21,
   "id": "8c94b900",
   "metadata": {},
   "outputs": [],
   "source": [
    "feature_extraction = TfidfVectorizer(min_df=1,stop_words='english',lowercase='True')"
   ]
  },
  {
   "cell_type": "code",
   "execution_count": 22,
   "id": "3bc83ec1",
   "metadata": {},
   "outputs": [],
   "source": [
    "tfidf_vectorizer = TfidfVectorizer(lowercase=True)\n",
    "X_train_feature = tfidf_vectorizer.fit_transform(X_Train)\n",
    "X_test_feature = tfidf_vectorizer.transform(X_test)\n"
   ]
  },
  {
   "cell_type": "code",
   "execution_count": 23,
   "id": "96662ef1",
   "metadata": {},
   "outputs": [],
   "source": [
    "Y_Train = Y_Train.astype('int')\n",
    "Y_test = Y_test.astype('int')"
   ]
  },
  {
   "cell_type": "code",
   "execution_count": 24,
   "id": "565b8c5c",
   "metadata": {},
   "outputs": [
    {
     "name": "stdout",
     "output_type": "stream",
     "text": [
      "  (0, 741)\t0.28307455118083463\n",
      "  (0, 3360)\t0.1327523238442287\n",
      "  (0, 4108)\t0.21196015023008544\n",
      "  (0, 4908)\t0.12973225055917514\n",
      "  (0, 3042)\t0.26300555749396887\n",
      "  (0, 946)\t0.1151770452043338\n",
      "  (0, 7464)\t0.19261204588580316\n",
      "  (0, 4431)\t0.3421657916670175\n",
      "  (0, 6805)\t0.17846848640014898\n",
      "  (0, 6873)\t0.15216101010779184\n",
      "  (0, 3497)\t0.28307455118083463\n",
      "  (0, 2178)\t0.33952544349598\n",
      "  (0, 3235)\t0.3869898904365042\n",
      "  (0, 3365)\t0.22753426247664568\n",
      "  (0, 1032)\t0.1361275560580212\n",
      "  (0, 7720)\t0.1765620792792692\n",
      "  (0, 3491)\t0.19174855251416806\n",
      "  (0, 4655)\t0.2558426236041184\n",
      "  (1, 4190)\t0.3725861907992424\n",
      "  (1, 7099)\t0.42172200036894236\n",
      "  (1, 6620)\t0.46707907862382136\n",
      "  (1, 3646)\t0.2020333473623602\n",
      "  (1, 6645)\t0.553594666958471\n",
      "  (1, 7704)\t0.3433404875792393\n",
      "  (2, 954)\t0.4257390912308466\n",
      "  :\t:\n",
      "  (4455, 7402)\t0.15130978849620824\n",
      "  (4455, 6316)\t0.16857953235415776\n",
      "  (4455, 6850)\t0.14840315498751144\n",
      "  (4455, 1592)\t0.11611242093594701\n",
      "  (4455, 6991)\t0.1743411711262433\n",
      "  (4455, 4647)\t0.1711510506728716\n",
      "  (4455, 3888)\t0.13162386869199988\n",
      "  (4455, 3767)\t0.1131472348271079\n",
      "  (4455, 1615)\t0.12678729795752244\n",
      "  (4455, 1561)\t0.12510711341007413\n",
      "  (4455, 6956)\t0.15407243057965578\n",
      "  (4455, 847)\t0.18793900087060836\n",
      "  (4455, 2376)\t0.1310118611150462\n",
      "  (4455, 6845)\t0.148803926710582\n",
      "  (4455, 4933)\t0.28083822596779895\n",
      "  (4455, 4680)\t0.11249715586710375\n",
      "  (4455, 4410)\t0.1081290969254776\n",
      "  (4455, 3360)\t0.23698431521172753\n",
      "  (4455, 946)\t0.10280480369551688\n",
      "  (4455, 7720)\t0.07879794914071371\n",
      "  (4456, 6312)\t0.5058318398291911\n",
      "  (4456, 6334)\t0.5058318398291911\n",
      "  (4456, 1431)\t0.4253166254875381\n",
      "  (4456, 4703)\t0.4655742326583645\n",
      "  (4456, 7513)\t0.3010227592699582\n"
     ]
    }
   ],
   "source": [
    "print(X_train_feature)"
   ]
  },
  {
   "cell_type": "code",
   "execution_count": 25,
   "id": "5f4693da",
   "metadata": {},
   "outputs": [
    {
     "data": {
      "text/plain": [
       "3075    Mum, hope you are having a great day. Hoping t...\n",
       "1787                           Yes:)sura in sun tv.:)lol.\n",
       "1614    Me sef dey laugh you. Meanwhile how's my darli...\n",
       "4304                Yo come over carlos will be here soon\n",
       "3266                    Ok then i come n pick u at engin?\n",
       "                              ...                        \n",
       "789                          Gud mrng dear hav a nice day\n",
       "968             Are you willing to go for aptitude class.\n",
       "1667    So now my dad is gonna call after he gets out ...\n",
       "3321    Ok darlin i supose it was ok i just worry too ...\n",
       "1688                     Nan sonathaya soladha. Why boss?\n",
       "Name: v2, Length: 4457, dtype: object"
      ]
     },
     "execution_count": 25,
     "metadata": {},
     "output_type": "execute_result"
    }
   ],
   "source": [
    "X_Train"
   ]
  },
  {
   "cell_type": "markdown",
   "id": "33f3b1ea",
   "metadata": {},
   "source": [
    "# LOGISTIC REGRESSSION"
   ]
  },
  {
   "cell_type": "code",
   "execution_count": 26,
   "id": "cbd3a74b",
   "metadata": {},
   "outputs": [],
   "source": [
    "model = LogisticRegression()"
   ]
  },
  {
   "cell_type": "code",
   "execution_count": 27,
   "id": "d406cd6b",
   "metadata": {},
   "outputs": [
    {
     "data": {
      "text/plain": [
       "3075    1\n",
       "1787    1\n",
       "1614    1\n",
       "4304    1\n",
       "3266    1\n",
       "       ..\n",
       "789     1\n",
       "968     1\n",
       "1667    1\n",
       "3321    1\n",
       "1688    1\n",
       "Name: v1, Length: 4457, dtype: int32"
      ]
     },
     "execution_count": 27,
     "metadata": {},
     "output_type": "execute_result"
    }
   ],
   "source": [
    "Y_Train"
   ]
  },
  {
   "cell_type": "code",
   "execution_count": 28,
   "id": "2e98d4b9",
   "metadata": {},
   "outputs": [
    {
     "data": {
      "text/html": [
       "<style>#sk-container-id-1 {color: black;}#sk-container-id-1 pre{padding: 0;}#sk-container-id-1 div.sk-toggleable {background-color: white;}#sk-container-id-1 label.sk-toggleable__label {cursor: pointer;display: block;width: 100%;margin-bottom: 0;padding: 0.3em;box-sizing: border-box;text-align: center;}#sk-container-id-1 label.sk-toggleable__label-arrow:before {content: \"▸\";float: left;margin-right: 0.25em;color: #696969;}#sk-container-id-1 label.sk-toggleable__label-arrow:hover:before {color: black;}#sk-container-id-1 div.sk-estimator:hover label.sk-toggleable__label-arrow:before {color: black;}#sk-container-id-1 div.sk-toggleable__content {max-height: 0;max-width: 0;overflow: hidden;text-align: left;background-color: #f0f8ff;}#sk-container-id-1 div.sk-toggleable__content pre {margin: 0.2em;color: black;border-radius: 0.25em;background-color: #f0f8ff;}#sk-container-id-1 input.sk-toggleable__control:checked~div.sk-toggleable__content {max-height: 200px;max-width: 100%;overflow: auto;}#sk-container-id-1 input.sk-toggleable__control:checked~label.sk-toggleable__label-arrow:before {content: \"▾\";}#sk-container-id-1 div.sk-estimator input.sk-toggleable__control:checked~label.sk-toggleable__label {background-color: #d4ebff;}#sk-container-id-1 div.sk-label input.sk-toggleable__control:checked~label.sk-toggleable__label {background-color: #d4ebff;}#sk-container-id-1 input.sk-hidden--visually {border: 0;clip: rect(1px 1px 1px 1px);clip: rect(1px, 1px, 1px, 1px);height: 1px;margin: -1px;overflow: hidden;padding: 0;position: absolute;width: 1px;}#sk-container-id-1 div.sk-estimator {font-family: monospace;background-color: #f0f8ff;border: 1px dotted black;border-radius: 0.25em;box-sizing: border-box;margin-bottom: 0.5em;}#sk-container-id-1 div.sk-estimator:hover {background-color: #d4ebff;}#sk-container-id-1 div.sk-parallel-item::after {content: \"\";width: 100%;border-bottom: 1px solid gray;flex-grow: 1;}#sk-container-id-1 div.sk-label:hover label.sk-toggleable__label {background-color: #d4ebff;}#sk-container-id-1 div.sk-serial::before {content: \"\";position: absolute;border-left: 1px solid gray;box-sizing: border-box;top: 0;bottom: 0;left: 50%;z-index: 0;}#sk-container-id-1 div.sk-serial {display: flex;flex-direction: column;align-items: center;background-color: white;padding-right: 0.2em;padding-left: 0.2em;position: relative;}#sk-container-id-1 div.sk-item {position: relative;z-index: 1;}#sk-container-id-1 div.sk-parallel {display: flex;align-items: stretch;justify-content: center;background-color: white;position: relative;}#sk-container-id-1 div.sk-item::before, #sk-container-id-1 div.sk-parallel-item::before {content: \"\";position: absolute;border-left: 1px solid gray;box-sizing: border-box;top: 0;bottom: 0;left: 50%;z-index: -1;}#sk-container-id-1 div.sk-parallel-item {display: flex;flex-direction: column;z-index: 1;position: relative;background-color: white;}#sk-container-id-1 div.sk-parallel-item:first-child::after {align-self: flex-end;width: 50%;}#sk-container-id-1 div.sk-parallel-item:last-child::after {align-self: flex-start;width: 50%;}#sk-container-id-1 div.sk-parallel-item:only-child::after {width: 0;}#sk-container-id-1 div.sk-dashed-wrapped {border: 1px dashed gray;margin: 0 0.4em 0.5em 0.4em;box-sizing: border-box;padding-bottom: 0.4em;background-color: white;}#sk-container-id-1 div.sk-label label {font-family: monospace;font-weight: bold;display: inline-block;line-height: 1.2em;}#sk-container-id-1 div.sk-label-container {text-align: center;}#sk-container-id-1 div.sk-container {/* jupyter's `normalize.less` sets `[hidden] { display: none; }` but bootstrap.min.css set `[hidden] { display: none !important; }` so we also need the `!important` here to be able to override the default hidden behavior on the sphinx rendered scikit-learn.org. See: https://github.com/scikit-learn/scikit-learn/issues/21755 */display: inline-block !important;position: relative;}#sk-container-id-1 div.sk-text-repr-fallback {display: none;}</style><div id=\"sk-container-id-1\" class=\"sk-top-container\"><div class=\"sk-text-repr-fallback\"><pre>LogisticRegression()</pre><b>In a Jupyter environment, please rerun this cell to show the HTML representation or trust the notebook. <br />On GitHub, the HTML representation is unable to render, please try loading this page with nbviewer.org.</b></div><div class=\"sk-container\" hidden><div class=\"sk-item\"><div class=\"sk-estimator sk-toggleable\"><input class=\"sk-toggleable__control sk-hidden--visually\" id=\"sk-estimator-id-1\" type=\"checkbox\" checked><label for=\"sk-estimator-id-1\" class=\"sk-toggleable__label sk-toggleable__label-arrow\">LogisticRegression</label><div class=\"sk-toggleable__content\"><pre>LogisticRegression()</pre></div></div></div></div></div>"
      ],
      "text/plain": [
       "LogisticRegression()"
      ]
     },
     "execution_count": 28,
     "metadata": {},
     "output_type": "execute_result"
    }
   ],
   "source": [
    "model.fit(X_train_feature,Y_Train)"
   ]
  },
  {
   "cell_type": "code",
   "execution_count": 29,
   "id": "bc498bb0",
   "metadata": {},
   "outputs": [],
   "source": [
    "prediction_on_Training_Data = model.predict(X_train_feature)\n",
    "accuracy_on_training_data = accuracy_score(Y_Train,prediction_on_Training_Data)"
   ]
  },
  {
   "cell_type": "code",
   "execution_count": 30,
   "id": "d441bdff",
   "metadata": {},
   "outputs": [
    {
     "name": "stdout",
     "output_type": "stream",
     "text": [
      "Accuracy for Training :  97.39735247924612\n"
     ]
    }
   ],
   "source": [
    "print(\"Accuracy for Training : \",accuracy_on_training_data * 100)\n"
   ]
  },
  {
   "cell_type": "code",
   "execution_count": 31,
   "id": "a0b00fdb",
   "metadata": {},
   "outputs": [
    {
     "name": "stdout",
     "output_type": "stream",
     "text": [
      "Accuracy for Training :  97.57847533632287\n"
     ]
    }
   ],
   "source": [
    "prediction_on_Test_Data = model.predict(X_test_feature)\n",
    "accuracy_on_test_data = accuracy_score(Y_test,prediction_on_Test_Data)\n",
    "print(\"Accuracy for Training : \",accuracy_on_test_data * 100)\n"
   ]
  },
  {
   "cell_type": "markdown",
   "id": "b94bc90c",
   "metadata": {},
   "source": [
    "# MODEL TESTING FROM INPUT"
   ]
  },
  {
   "cell_type": "code",
   "execution_count": 32,
   "id": "b92f7f37",
   "metadata": {},
   "outputs": [
    {
     "name": "stdout",
     "output_type": "stream",
     "text": [
      "[0]\n",
      "This is the Spam Mail.\n"
     ]
    }
   ],
   "source": [
    "#  Building a Predictable System\n",
    "input_mail = [\"As a valued customer, I am pleased to advise you that following recent review of your Mob No. you are awarded with a £1500 Bonus Prize, call 09066364589\"]\n",
    "\n",
    "# Convert Text to feature vectors\n",
    "input_data_feature = tfidf_vectorizer.transform(input_mail)\n",
    "\n",
    "# Making Prediction\n",
    "prediction = model.predict(input_data_feature)\n",
    "\n",
    "print(prediction)\n",
    "\n",
    "if(prediction == [1]):\n",
    "    print(\"This is the Ham Mail.\")\n",
    "else:\n",
    "    print(\"This is the Spam Mail.\")"
   ]
  },
  {
   "cell_type": "code",
   "execution_count": 33,
   "id": "834e233c",
   "metadata": {},
   "outputs": [
    {
     "name": "stdout",
     "output_type": "stream",
     "text": [
      "[1]\n",
      "This is the Ham Mail.\n"
     ]
    }
   ],
   "source": [
    "#  Building a Predictable System\n",
    "input_mail = [\"We are pleased to inform you that your recent order has been shipped and is on its way. You can track your package using the provided tracking number. Thank you for choosing our services.\"]\n",
    "# Convert Text to feature vectors\n",
    "input_data_feature = tfidf_vectorizer.transform(input_mail)\n",
    "\n",
    "# Making Prediction\n",
    "prediction = model.predict(input_data_feature)\n",
    "\n",
    "print(prediction)\n",
    "\n",
    "if(prediction == [1]):\n",
    "    print(\"This is the Ham Mail.\")\n",
    "else:\n",
    "    print(\"This is the Spam Mail.\")"
   ]
  },
  {
   "cell_type": "markdown",
   "id": "b93eebcf",
   "metadata": {},
   "source": [
    "# THANK YOU..!!"
   ]
  },
  {
   "cell_type": "code",
   "execution_count": null,
   "id": "89d47a8e",
   "metadata": {},
   "outputs": [],
   "source": []
  }
 ],
 "metadata": {
  "kernelspec": {
   "display_name": "Python 3 (ipykernel)",
   "language": "python",
   "name": "python3"
  },
  "language_info": {
   "codemirror_mode": {
    "name": "ipython",
    "version": 3
   },
   "file_extension": ".py",
   "mimetype": "text/x-python",
   "name": "python",
   "nbconvert_exporter": "python",
   "pygments_lexer": "ipython3",
   "version": "3.11.5"
  }
 },
 "nbformat": 4,
 "nbformat_minor": 5
}
